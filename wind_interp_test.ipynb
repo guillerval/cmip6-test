{
 "cells": [
  {
   "cell_type": "markdown",
   "metadata": {},
   "source": [
    "# Testing wind interpolation"
   ]
  },
  {
   "cell_type": "code",
   "execution_count": null,
   "metadata": {},
   "outputs": [],
   "source": [
    "import xarray as xr\n",
    "import atlite\n",
    "import matplotlib.pyplot as plt\n",
    "import geopandas as gpd\n",
    "import pandas as pd\n",
    "import logging\n",
    "logging.basicConfig(level=logging.INFO)\n",
    "from pyesgf.logon import LogonManager\n",
    "\n",
    "lm = LogonManager()\n",
    "lm.logoff()\n",
    "lm.is_logged_on()\n",
    "\n",
    "USERNAME='guillerv'\n",
    "OPENID = f'https://esgf-node.llnl.gov/esgf-idp/openid/guillerv'\n",
    "lm.logon_with_openid(openid=OPENID, password=None, bootstrap=True)\n",
    "lm.is_logged_on()\n",
    "\n",
    "# set lat and lon\n",
    "x1 = -30\n",
    "y1 = 20\n",
    "x2 = 50\n",
    "y2 = 75\n",
    "\n",
    "# configuration parameter\n",
    "\n",
    "exp_id = \"ssp558\"\n",
    "\n",
    "esgf_params = {\n",
    "   'data_node': 'esgf.ceda.ac.uk',\n",
    "   'source_id': 'HadGEM3-GC31-MM',\n",
    "   'variant_label':'r1i1p1f3',\n",
    "   'experiment_id': exp_id,\n",
    "   'project' : 'CMIP6'}\n",
    "\n",
    "\n",
    "\n",
    "# years for cmip6\n",
    "cmipyears = range(2015,2015)\n",
    "\n",
    "\n",
    "for year in cmipyears:\n",
    "    print(year)\n",
    "    filename = \"./data/cmip-\"+exp_id+\"/cmip_chile_\"+str(year)+\".nc\"\n",
    "    # read cmip files\n",
    "    cutout_cmip = atlite.Cutout(path=filename,\n",
    "                                module=[\"cmip\"], \n",
    "                                x=slice(x1,x2), \n",
    "                                y=slice(y1,y2), \n",
    "                                time=str(year), \n",
    "                                esgf_params=esgf_params, \n",
    "                                dt='3H', dx=1,dy=1)\n",
    "    #cutout_cmip.prepare()"
   ]
  }
 ],
 "metadata": {
  "kernelspec": {
   "display_name": "Python 3.10.6 64-bit",
   "language": "python",
   "name": "python3"
  },
  "language_info": {
   "name": "python",
   "version": "3.10.6"
  },
  "orig_nbformat": 4,
  "vscode": {
   "interpreter": {
    "hash": "916dbcbb3f70747c44a77c7bcd40155683ae19c65e1c03b4aa3499c5328201f1"
   }
  }
 },
 "nbformat": 4,
 "nbformat_minor": 2
}
